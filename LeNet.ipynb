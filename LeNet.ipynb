{
 "cells": [
  {
   "cell_type": "code",
   "execution_count": 1,
   "metadata": {},
   "outputs": [],
   "source": [
    "import time\n",
    "import torch\n",
    "from torch import nn,optim\n",
    "from presentation import *\n",
    "import torchvision\n",
    "\n",
    "device = torch.device('cuda' if torch.cuda.is_available() else 'cpu')"
   ]
  },
  {
   "cell_type": "code",
   "execution_count": 2,
   "metadata": {},
   "outputs": [
    {
     "name": "stdout",
     "output_type": "stream",
     "text": [
      "LENet(\n",
      "  (conv): Sequential(\n",
      "    (0): Conv2d(1, 6, kernel_size=(5, 5), stride=(1, 1))\n",
      "    (1): Sigmoid()\n",
      "    (2): MaxPool2d(kernel_size=2, stride=2, padding=0, dilation=1, ceil_mode=False)\n",
      "    (3): Conv2d(6, 16, kernel_size=(5, 5), stride=(1, 1))\n",
      "    (4): Sigmoid()\n",
      "    (5): MaxPool2d(kernel_size=2, stride=2, padding=0, dilation=1, ceil_mode=False)\n",
      "  )\n",
      "  (fc): Sequential(\n",
      "    (0): Linear(in_features=256, out_features=120, bias=True)\n",
      "    (1): Sigmoid()\n",
      "    (2): Linear(in_features=120, out_features=84, bias=True)\n",
      "    (3): Sigmoid()\n",
      "    (4): Linear(in_features=84, out_features=10, bias=True)\n",
      "  )\n",
      ")\n"
     ]
    }
   ],
   "source": [
    "class LENet(nn.Module):\n",
    "    def __init__(self):\n",
    "        super(LENet, self).__init__()\n",
    "        self.conv = nn.Sequential(\n",
    "            nn.Conv2d(1,6,5),\n",
    "            nn.Sigmoid(),\n",
    "            nn.MaxPool2d(2,2),\n",
    "            nn.Conv2d(6,16,5),\n",
    "            nn.Sigmoid(),\n",
    "            nn.MaxPool2d(2,2)\n",
    "        )\n",
    "        self.fc = nn.Sequential(\n",
    "            nn.Linear(16*4*4,120),\n",
    "            nn.Sigmoid(),\n",
    "            nn.Linear(120,84),\n",
    "            nn.Sigmoid(),\n",
    "            nn.Linear(84,10)\n",
    "        )\n",
    "    \n",
    "    def forward(self, img):\n",
    "        feature = self.conv(img)\n",
    "        return self.fc(feature.view(img.shape[0], -1))\n",
    "\n",
    "net = LENet()\n",
    "print(net)\n",
    "                                  "
   ]
  },
  {
   "cell_type": "code",
   "execution_count": 3,
   "metadata": {},
   "outputs": [],
   "source": [
    "# 下载数据集 torchvision.datasets：加载数据的函数和常用的的数据及接口\n",
    "mnist_train = torchvision.datasets.FashionMNIST(root='D:\\Repos\\PycharmProjects\\Datasets\\FashionMNIST',\n",
    "                                                train=True, download=True,\n",
    "                                                transform=transforms.ToTensor())  # 将所有数据转换成Tensor (C,H,W)\n",
    "mnist_test = torchvision.datasets.FashionMNIST(root='D:\\Repos\\PycharmProjects\\Datasets\\FashionMNIST',\n",
    "                                               train=False, download=True, transform=transforms.ToTensor())\n",
    "# print(len(mnist_train),len(mnist_test))\n",
    "\n",
    "# feature, lable = mnist_train[20]\n",
    "# print(feature,lable)"
   ]
  },
  {
   "cell_type": "code",
   "execution_count": 4,
   "metadata": {},
   "outputs": [],
   "source": [
    "batch_size = 256\n",
    "num_epochs = 10\n",
    "\n",
    "train_iter = torch.utils.data.DataLoader(mnist_train, batch_size=batch_size, shuffle=True)\n",
    "test_iter = torch.utils.data.DataLoader(mnist_test, batch_size=batch_size, shuffle=False)\n",
    "\n",
    "loss = nn.CrossEntropyLoss()\n",
    "\n",
    "lr = 0.001\n",
    "optimizer = torch.optim.Adam(net.parameters(),lr=lr)\n",
    "\n"
   ]
  },
  {
   "cell_type": "code",
   "execution_count": 5,
   "metadata": {},
   "outputs": [],
   "source": [
    "def evaluate_accuracy(test_iter, net, device):\n",
    "    acc_sum, n = 0.0, 0\n",
    "    with torch.no_grad():\n",
    "        for X, y in test_iter:\n",
    "            net.eval()\n",
    "            acc_sum += (net(X.to(device)).argmax(dim=1) == y.to(device)).float().sum().cpu().item()\n",
    "            net.train()\n",
    "            n += y.shape[0]\n",
    "    return acc_sum / n\n",
    "        "
   ]
  },
  {
   "cell_type": "code",
   "execution_count": 6,
   "metadata": {},
   "outputs": [],
   "source": [
    "def train(net, train_iter, test_iter, optimizer, loss, device, num_epochs):\n",
    "    # 设置GPU训练\n",
    "    net = net.to(device)\n",
    "    print(\"training on \",device)\n",
    "    batch_count = 0\n",
    "    for epoch in range(num_epochs):\n",
    "        train_l_sum, train_acc_sum, n, start = 0.0, 0.0, 0, time.time()\n",
    "        for X, y in train_iter:\n",
    "            # 设置GPU训练\n",
    "            X = X.to(device)\n",
    "            y = y.to(device)\n",
    "            y_hat = net(X)\n",
    "            l = loss(y_hat, y)\n",
    "            optimizer.zero_grad()\n",
    "            l.backward()\n",
    "            optimizer.step()\n",
    "            train_l_sum += l.cpu().item()\n",
    "            train_acc_sum += (y_hat.argmax(dim=1) == y).sum().cpu().item()\n",
    "            n += y.shape[0]\n",
    "            batch_count += 1\n",
    "        test_acc = evaluate_accuracy(test_iter, net, device)\n",
    "        print('epoch %d, loss %.4f, train acc %.3f, test acc %.3f, time %.1f sec'% (epoch+1, train_l_sum / batch_count, train_acc_sum / n, test_acc, time.time()-start))\n",
    "            "
   ]
  },
  {
   "cell_type": "code",
   "execution_count": 7,
   "metadata": {
    "scrolled": true
   },
   "outputs": [
    {
     "name": "stdout",
     "output_type": "stream",
     "text": [
      "training on  cuda\n",
      "epoch 1, loss 1.8206, train acc 0.329, test acc 0.562, time 9.6 sec\n",
      "epoch 2, loss 0.4867, train acc 0.612, test acc 0.650, time 6.9 sec\n",
      "epoch 3, loss 0.2683, train acc 0.695, test acc 0.716, time 7.2 sec\n",
      "epoch 4, loss 0.1766, train acc 0.736, test acc 0.739, time 7.1 sec\n",
      "epoch 5, loss 0.1299, train acc 0.754, test acc 0.753, time 6.9 sec\n",
      "epoch 6, loss 0.1008, train acc 0.766, test acc 0.766, time 7.0 sec\n",
      "epoch 7, loss 0.0811, train acc 0.779, test acc 0.780, time 6.8 sec\n",
      "epoch 8, loss 0.0675, train acc 0.791, test acc 0.783, time 7.0 sec\n",
      "epoch 9, loss 0.0575, train acc 0.800, test acc 0.799, time 7.3 sec\n",
      "epoch 10, loss 0.0495, train acc 0.811, test acc 0.798, time 7.0 sec\n"
     ]
    }
   ],
   "source": [
    "train(net, train_iter, test_iter, optimizer, loss, device, num_epochs)"
   ]
  },
  {
   "cell_type": "code",
   "execution_count": null,
   "metadata": {},
   "outputs": [],
   "source": []
  }
 ],
 "metadata": {
  "kernelspec": {
   "display_name": "Python 3",
   "language": "python",
   "name": "python3"
  },
  "language_info": {
   "codemirror_mode": {
    "name": "ipython",
    "version": 3
   },
   "file_extension": ".py",
   "mimetype": "text/x-python",
   "name": "python",
   "nbconvert_exporter": "python",
   "pygments_lexer": "ipython3",
   "version": "3.8.6"
  }
 },
 "nbformat": 4,
 "nbformat_minor": 4
}
